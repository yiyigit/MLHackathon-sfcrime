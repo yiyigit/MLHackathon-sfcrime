{
  "nbformat": 4,
  "nbformat_minor": 0,
  "metadata": {
    "colab": {
      "name": "Haoyang-Eddie.ipynb",
      "provenance": [],
      "collapsed_sections": []
    },
    "kernelspec": {
      "name": "python3",
      "display_name": "Python 3"
    },
    "language_info": {
      "name": "python"
    }
  },
  "cells": [
    {
      "cell_type": "code",
      "metadata": {
        "id": "kfqe6QVIMl14"
      },
      "source": [
        "import pandas as pd\n",
        "import seaborn as sn\n",
        "import matplotlib.pyplot as plt\n",
        "\n",
        "import numpy as np\n",
        "from sklearn.neighbors import KNeighborsClassifier\n",
        "from sklearn.model_selection import train_test_split, KFold\n",
        "from sklearn import preprocessing"
      ],
      "execution_count": null,
      "outputs": []
    },
    {
      "cell_type": "markdown",
      "metadata": {
        "id": "LbTu4o7mTCEU"
      },
      "source": [
        "## Read in dataset"
      ]
    },
    {
      "cell_type": "code",
      "metadata": {
        "id": "5Trh3k1kSqNC"
      },
      "source": [
        "# df = pd.read_csv(\"sf_crime_truncated.csv\", index_col=\"Dates\", parse_dates=[\"Dates\", \"DayOfWeek\"])\n",
        "df = pd.read_csv(\"sf_crime_truncated.csv\", parse_dates=[\"Dates\", \"DayOfWeek\"])\n",
        "df.head()\n",
        "\n",
        "enc = preprocessing.OneHotEncoder()"
      ],
      "execution_count": null,
      "outputs": []
    },
    {
      "cell_type": "code",
      "metadata": {
        "colab": {
          "base_uri": "https://localhost:8080/",
          "height": 297
        },
        "id": "jgcqboUHTHOR",
        "outputId": "3f38dc34-2bb9-4db3-af5d-f55314e78624"
      },
      "source": [
        "df.describe()"
      ],
      "execution_count": null,
      "outputs": [
        {
          "output_type": "execute_result",
          "data": {
            "text/html": [
              "<div>\n",
              "<style scoped>\n",
              "    .dataframe tbody tr th:only-of-type {\n",
              "        vertical-align: middle;\n",
              "    }\n",
              "\n",
              "    .dataframe tbody tr th {\n",
              "        vertical-align: top;\n",
              "    }\n",
              "\n",
              "    .dataframe thead th {\n",
              "        text-align: right;\n",
              "    }\n",
              "</style>\n",
              "<table border=\"1\" class=\"dataframe\">\n",
              "  <thead>\n",
              "    <tr style=\"text-align: right;\">\n",
              "      <th></th>\n",
              "      <th>X</th>\n",
              "      <th>Y</th>\n",
              "    </tr>\n",
              "  </thead>\n",
              "  <tbody>\n",
              "    <tr>\n",
              "      <th>count</th>\n",
              "      <td>20000.000000</td>\n",
              "      <td>20000.000000</td>\n",
              "    </tr>\n",
              "    <tr>\n",
              "      <th>mean</th>\n",
              "      <td>-122.422499</td>\n",
              "      <td>37.772153</td>\n",
              "    </tr>\n",
              "    <tr>\n",
              "      <th>std</th>\n",
              "      <td>0.031782</td>\n",
              "      <td>0.522885</td>\n",
              "    </tr>\n",
              "    <tr>\n",
              "      <th>min</th>\n",
              "      <td>-122.513642</td>\n",
              "      <td>37.708154</td>\n",
              "    </tr>\n",
              "    <tr>\n",
              "      <th>25%</th>\n",
              "      <td>-122.433220</td>\n",
              "      <td>37.752239</td>\n",
              "    </tr>\n",
              "    <tr>\n",
              "      <th>50%</th>\n",
              "      <td>-122.416349</td>\n",
              "      <td>37.775421</td>\n",
              "    </tr>\n",
              "    <tr>\n",
              "      <th>75%</th>\n",
              "      <td>-122.406841</td>\n",
              "      <td>37.784401</td>\n",
              "    </tr>\n",
              "    <tr>\n",
              "      <th>max</th>\n",
              "      <td>-120.500000</td>\n",
              "      <td>90.000000</td>\n",
              "    </tr>\n",
              "  </tbody>\n",
              "</table>\n",
              "</div>"
            ],
            "text/plain": [
              "                  X             Y\n",
              "count  20000.000000  20000.000000\n",
              "mean    -122.422499     37.772153\n",
              "std        0.031782      0.522885\n",
              "min     -122.513642     37.708154\n",
              "25%     -122.433220     37.752239\n",
              "50%     -122.416349     37.775421\n",
              "75%     -122.406841     37.784401\n",
              "max     -120.500000     90.000000"
            ]
          },
          "metadata": {
            "tags": []
          },
          "execution_count": 30
        }
      ]
    },
    {
      "cell_type": "markdown",
      "metadata": {
        "id": "qopQJ3pOU15F"
      },
      "source": [
        "## Sanity Check"
      ]
    },
    {
      "cell_type": "code",
      "metadata": {
        "id": "v9NyS0UWUPZ2"
      },
      "source": [
        "df = df[df[\"Y\"] <= 38]\n",
        "df[df[\"Y\"] > 38] ## double check\n",
        "\n",
        "df['Dates'] = pd.to_datetime(df['Dates'])"
      ],
      "execution_count": null,
      "outputs": []
    },
    {
      "cell_type": "markdown",
      "metadata": {
        "id": "xAg_hjH6bDDW"
      },
      "source": [
        "## Add anothe column for checking if is holiday"
      ]
    },
    {
      "cell_type": "code",
      "metadata": {
        "id": "h3hqFyBRU5Wk",
        "colab": {
          "base_uri": "https://localhost:8080/",
          "height": 589
        },
        "outputId": "cc5f3b57-ea91-4cca-8ffd-f3b4c5962113"
      },
      "source": [
        "from pandas.tseries.holiday import USFederalHolidayCalendar as calendar\n",
        "\n",
        "dr = pd.date_range(start='2003-01-01', end='2014-12-31')\n",
        "\n",
        "cal = calendar()\n",
        "holidays = cal.holidays(start=dr.min(), end=dr.max())\n",
        "\n",
        "df.sort_values('Dates', ascending=False)\n",
        "  \n",
        "# df['Holiday'] = df['Dates'].isin(holidays)"
      ],
      "execution_count": null,
      "outputs": [
        {
          "output_type": "execute_result",
          "data": {
            "text/html": [
              "<div>\n",
              "<style scoped>\n",
              "    .dataframe tbody tr th:only-of-type {\n",
              "        vertical-align: middle;\n",
              "    }\n",
              "\n",
              "    .dataframe tbody tr th {\n",
              "        vertical-align: top;\n",
              "    }\n",
              "\n",
              "    .dataframe thead th {\n",
              "        text-align: right;\n",
              "    }\n",
              "</style>\n",
              "<table border=\"1\" class=\"dataframe\">\n",
              "  <thead>\n",
              "    <tr style=\"text-align: right;\">\n",
              "      <th></th>\n",
              "      <th>Dates</th>\n",
              "      <th>Category</th>\n",
              "      <th>Descript</th>\n",
              "      <th>DayOfWeek</th>\n",
              "      <th>PdDistrict</th>\n",
              "      <th>Resolution</th>\n",
              "      <th>Address</th>\n",
              "      <th>X</th>\n",
              "      <th>Y</th>\n",
              "    </tr>\n",
              "  </thead>\n",
              "  <tbody>\n",
              "    <tr>\n",
              "      <th>5208</th>\n",
              "      <td>2015-05-13 20:30:00</td>\n",
              "      <td>LARCENY/THEFT</td>\n",
              "      <td>GRAND THEFT FROM LOCKED AUTO</td>\n",
              "      <td>Wednesday</td>\n",
              "      <td>NORTHERN</td>\n",
              "      <td>NONE</td>\n",
              "      <td>CALIFORNIA ST / BUCHANAN ST</td>\n",
              "      <td>-122.430552</td>\n",
              "      <td>37.789323</td>\n",
              "    </tr>\n",
              "    <tr>\n",
              "      <th>4451</th>\n",
              "      <td>2015-05-13 19:28:00</td>\n",
              "      <td>VEHICLE THEFT</td>\n",
              "      <td>STOLEN AND RECOVERED VEHICLE</td>\n",
              "      <td>Wednesday</td>\n",
              "      <td>CENTRAL</td>\n",
              "      <td>NONE</td>\n",
              "      <td>0 Block of SANSOME ST</td>\n",
              "      <td>-122.400720</td>\n",
              "      <td>37.790712</td>\n",
              "    </tr>\n",
              "    <tr>\n",
              "      <th>16057</th>\n",
              "      <td>2015-05-13 16:30:00</td>\n",
              "      <td>VEHICLE THEFT</td>\n",
              "      <td>STOLEN TRUCK</td>\n",
              "      <td>Wednesday</td>\n",
              "      <td>NORTHERN</td>\n",
              "      <td>NONE</td>\n",
              "      <td>SUTTER ST / WEBSTER ST</td>\n",
              "      <td>-122.431553</td>\n",
              "      <td>37.786304</td>\n",
              "    </tr>\n",
              "    <tr>\n",
              "      <th>13411</th>\n",
              "      <td>2015-05-13 16:00:00</td>\n",
              "      <td>VANDALISM</td>\n",
              "      <td>MALICIOUS MISCHIEF, VANDALISM</td>\n",
              "      <td>Wednesday</td>\n",
              "      <td>BAYVIEW</td>\n",
              "      <td>NONE</td>\n",
              "      <td>100 Block of KISKA RD</td>\n",
              "      <td>-122.375989</td>\n",
              "      <td>37.730158</td>\n",
              "    </tr>\n",
              "    <tr>\n",
              "      <th>15883</th>\n",
              "      <td>2015-05-13 15:22:00</td>\n",
              "      <td>NON-CRIMINAL</td>\n",
              "      <td>TRAFFIC ACCIDENT</td>\n",
              "      <td>Wednesday</td>\n",
              "      <td>BAYVIEW</td>\n",
              "      <td>NONE</td>\n",
              "      <td>1200 Block of CONNECTICUT ST</td>\n",
              "      <td>-122.396270</td>\n",
              "      <td>37.750453</td>\n",
              "    </tr>\n",
              "    <tr>\n",
              "      <th>...</th>\n",
              "      <td>...</td>\n",
              "      <td>...</td>\n",
              "      <td>...</td>\n",
              "      <td>...</td>\n",
              "      <td>...</td>\n",
              "      <td>...</td>\n",
              "      <td>...</td>\n",
              "      <td>...</td>\n",
              "      <td>...</td>\n",
              "    </tr>\n",
              "    <tr>\n",
              "      <th>17752</th>\n",
              "      <td>2003-01-06 16:30:00</td>\n",
              "      <td>NON-CRIMINAL</td>\n",
              "      <td>LOST PROPERTY</td>\n",
              "      <td>Monday</td>\n",
              "      <td>MISSION</td>\n",
              "      <td>NONE</td>\n",
              "      <td>1000 Block of POTRERO AV</td>\n",
              "      <td>-122.406539</td>\n",
              "      <td>37.756486</td>\n",
              "    </tr>\n",
              "    <tr>\n",
              "      <th>3406</th>\n",
              "      <td>2003-01-06 13:00:00</td>\n",
              "      <td>NON-CRIMINAL</td>\n",
              "      <td>LOST PROPERTY</td>\n",
              "      <td>Monday</td>\n",
              "      <td>RICHMOND</td>\n",
              "      <td>NONE</td>\n",
              "      <td>3200 Block of GEARY BL</td>\n",
              "      <td>-122.453658</td>\n",
              "      <td>37.781533</td>\n",
              "    </tr>\n",
              "    <tr>\n",
              "      <th>17521</th>\n",
              "      <td>2003-01-06 11:20:00</td>\n",
              "      <td>DRUG/NARCOTIC</td>\n",
              "      <td>POSSESSION OF NARCOTICS PARAPHERNALIA</td>\n",
              "      <td>Monday</td>\n",
              "      <td>TENDERLOIN</td>\n",
              "      <td>ARREST, CITED</td>\n",
              "      <td>0 Block of UNITED NATIONS PZ</td>\n",
              "      <td>-122.414318</td>\n",
              "      <td>37.779944</td>\n",
              "    </tr>\n",
              "    <tr>\n",
              "      <th>11776</th>\n",
              "      <td>2003-01-06 07:21:00</td>\n",
              "      <td>OTHER OFFENSES</td>\n",
              "      <td>VIOLATION OF PARK CODE</td>\n",
              "      <td>Monday</td>\n",
              "      <td>SOUTHERN</td>\n",
              "      <td>ARREST, CITED</td>\n",
              "      <td>0 Block of UNITED NATIONS PZ</td>\n",
              "      <td>-122.414318</td>\n",
              "      <td>37.779944</td>\n",
              "    </tr>\n",
              "    <tr>\n",
              "      <th>10413</th>\n",
              "      <td>2003-01-06 00:42:00</td>\n",
              "      <td>WARRANTS</td>\n",
              "      <td>ENROUTE TO OUTSIDE JURISDICTION</td>\n",
              "      <td>Monday</td>\n",
              "      <td>TENDERLOIN</td>\n",
              "      <td>ARREST, BOOKED</td>\n",
              "      <td>TAYLOR ST / GEARY ST</td>\n",
              "      <td>-122.411519</td>\n",
              "      <td>37.786941</td>\n",
              "    </tr>\n",
              "  </tbody>\n",
              "</table>\n",
              "<p>20000 rows × 9 columns</p>\n",
              "</div>"
            ],
            "text/plain": [
              "                    Dates        Category  ...           X          Y\n",
              "5208  2015-05-13 20:30:00   LARCENY/THEFT  ... -122.430552  37.789323\n",
              "4451  2015-05-13 19:28:00   VEHICLE THEFT  ... -122.400720  37.790712\n",
              "16057 2015-05-13 16:30:00   VEHICLE THEFT  ... -122.431553  37.786304\n",
              "13411 2015-05-13 16:00:00       VANDALISM  ... -122.375989  37.730158\n",
              "15883 2015-05-13 15:22:00    NON-CRIMINAL  ... -122.396270  37.750453\n",
              "...                   ...             ...  ...         ...        ...\n",
              "17752 2003-01-06 16:30:00    NON-CRIMINAL  ... -122.406539  37.756486\n",
              "3406  2003-01-06 13:00:00    NON-CRIMINAL  ... -122.453658  37.781533\n",
              "17521 2003-01-06 11:20:00   DRUG/NARCOTIC  ... -122.414318  37.779944\n",
              "11776 2003-01-06 07:21:00  OTHER OFFENSES  ... -122.414318  37.779944\n",
              "10413 2003-01-06 00:42:00        WARRANTS  ... -122.411519  37.786941\n",
              "\n",
              "[20000 rows x 9 columns]"
            ]
          },
          "metadata": {
            "tags": []
          },
          "execution_count": 230
        }
      ]
    },
    {
      "cell_type": "code",
      "metadata": {
        "colab": {
          "base_uri": "https://localhost:8080/",
          "height": 204
        },
        "id": "jzFAVsicbdvp",
        "outputId": "ec20e89d-a8cf-4f6f-ba4f-ae869ea2690e"
      },
      "source": [
        "df.head()"
      ],
      "execution_count": null,
      "outputs": [
        {
          "output_type": "execute_result",
          "data": {
            "text/html": [
              "<div>\n",
              "<style scoped>\n",
              "    .dataframe tbody tr th:only-of-type {\n",
              "        vertical-align: middle;\n",
              "    }\n",
              "\n",
              "    .dataframe tbody tr th {\n",
              "        vertical-align: top;\n",
              "    }\n",
              "\n",
              "    .dataframe thead th {\n",
              "        text-align: right;\n",
              "    }\n",
              "</style>\n",
              "<table border=\"1\" class=\"dataframe\">\n",
              "  <thead>\n",
              "    <tr style=\"text-align: right;\">\n",
              "      <th></th>\n",
              "      <th>Dates</th>\n",
              "      <th>Category</th>\n",
              "      <th>Descript</th>\n",
              "      <th>DayOfWeek</th>\n",
              "      <th>PdDistrict</th>\n",
              "      <th>Resolution</th>\n",
              "      <th>Address</th>\n",
              "      <th>X</th>\n",
              "      <th>Y</th>\n",
              "      <th>Holiday</th>\n",
              "    </tr>\n",
              "  </thead>\n",
              "  <tbody>\n",
              "    <tr>\n",
              "      <th>0</th>\n",
              "      <td>2009-06-11 13:45:00</td>\n",
              "      <td>OTHER OFFENSES</td>\n",
              "      <td>CONSPIRACY</td>\n",
              "      <td>Thursday</td>\n",
              "      <td>TARAVAL</td>\n",
              "      <td>JUVENILE BOOKED</td>\n",
              "      <td>19TH AV / OCEAN AV</td>\n",
              "      <td>-122.474954</td>\n",
              "      <td>37.732456</td>\n",
              "      <td>False</td>\n",
              "    </tr>\n",
              "    <tr>\n",
              "      <th>1</th>\n",
              "      <td>2005-10-17 12:00:00</td>\n",
              "      <td>ASSAULT</td>\n",
              "      <td>THREATENING PHONE CALL(S)</td>\n",
              "      <td>Monday</td>\n",
              "      <td>TARAVAL</td>\n",
              "      <td>NONE</td>\n",
              "      <td>1500 Block of SLOAT BL</td>\n",
              "      <td>-122.489714</td>\n",
              "      <td>37.733950</td>\n",
              "      <td>False</td>\n",
              "    </tr>\n",
              "    <tr>\n",
              "      <th>2</th>\n",
              "      <td>2012-09-20 20:30:00</td>\n",
              "      <td>NON-CRIMINAL</td>\n",
              "      <td>LOST PROPERTY</td>\n",
              "      <td>Thursday</td>\n",
              "      <td>MISSION</td>\n",
              "      <td>NONE</td>\n",
              "      <td>1800 Block of FOLSOM ST</td>\n",
              "      <td>-122.415605</td>\n",
              "      <td>37.767718</td>\n",
              "      <td>False</td>\n",
              "    </tr>\n",
              "    <tr>\n",
              "      <th>3</th>\n",
              "      <td>2006-03-25 15:28:00</td>\n",
              "      <td>SECONDARY CODES</td>\n",
              "      <td>DOMESTIC VIOLENCE</td>\n",
              "      <td>Saturday</td>\n",
              "      <td>RICHMOND</td>\n",
              "      <td>ARREST, BOOKED</td>\n",
              "      <td>800 Block of 28TH AV</td>\n",
              "      <td>-122.487534</td>\n",
              "      <td>37.773336</td>\n",
              "      <td>False</td>\n",
              "    </tr>\n",
              "    <tr>\n",
              "      <th>4</th>\n",
              "      <td>2013-10-01 00:33:00</td>\n",
              "      <td>WARRANTS</td>\n",
              "      <td>ENROUTE TO PAROLE OFFICER</td>\n",
              "      <td>Tuesday</td>\n",
              "      <td>MISSION</td>\n",
              "      <td>ARREST, BOOKED</td>\n",
              "      <td>1200 Block of CHURCH ST</td>\n",
              "      <td>-122.427465</td>\n",
              "      <td>37.751296</td>\n",
              "      <td>False</td>\n",
              "    </tr>\n",
              "  </tbody>\n",
              "</table>\n",
              "</div>"
            ],
            "text/plain": [
              "                Dates         Category  ...          Y Holiday\n",
              "0 2009-06-11 13:45:00   OTHER OFFENSES  ...  37.732456   False\n",
              "1 2005-10-17 12:00:00          ASSAULT  ...  37.733950   False\n",
              "2 2012-09-20 20:30:00     NON-CRIMINAL  ...  37.767718   False\n",
              "3 2006-03-25 15:28:00  SECONDARY CODES  ...  37.773336   False\n",
              "4 2013-10-01 00:33:00         WARRANTS  ...  37.751296   False\n",
              "\n",
              "[5 rows x 10 columns]"
            ]
          },
          "metadata": {
            "tags": []
          },
          "execution_count": 33
        }
      ]
    },
    {
      "cell_type": "markdown",
      "metadata": {
        "id": "mw9iTKvlcGX4"
      },
      "source": [
        "## Build the correlation map"
      ]
    },
    {
      "cell_type": "code",
      "metadata": {
        "colab": {
          "base_uri": "https://localhost:8080/",
          "height": 269
        },
        "id": "lon133MaegeZ",
        "outputId": "414e0e2c-ae90-4a48-a535-0e727c6182c1"
      },
      "source": [
        "# df[\"DayOfWeek\"] = df[\"DayOfWeek\"].astype(\"category\").cat.codes\n",
        "# df[\"Descript\"] = df[\"Descript\"].astype(\"category\").cat.codes\n",
        "# # df[\"Holiday\"] = df[\"Holiday\"].astype(\"category\").cat.codes\n",
        "# df[\"PdDistrict\"] = df[\"PdDistrict\"].astype(\"category\").cat.codes\n",
        "# df[\"Resolution\"] = df[\"Resolution\"].astype(\"category\").cat.codes\n",
        "# df[\"Address\"] = df[\"Address\"].astype(\"category\").cat.codes\n",
        "# df[\"X\"] = df[\"X\"].astype(\"category\").cat.codes\n",
        "# df[\"Y\"] = df[\"Y\"].astype(\"category\").cat.codes\n",
        "\n",
        "enc = preprocessing.LabelEncoder()\n",
        "enc.fit(df['Category'])\n",
        "\n",
        "enc.transform(df['Category'])\n",
        "\n",
        "\n",
        "corrMatrix = df.corr()\n",
        "sn.heatmap(corrMatrix, annot=True)\n",
        "plt.show()"
      ],
      "execution_count": null,
      "outputs": [
        {
          "output_type": "display_data",
          "data": {
            "image/png": "[encoded data removed]",
            "text/plain": [
              "<Figure size 432x288 with 2 Axes>"
            ]
          },
          "metadata": {
            "tags": [],
            "needs_background": "light"
          }
        }
      ]
    },
    {
      "cell_type": "code",
      "metadata": {
        "id": "dnHktFLsjEGL"
      },
      "source": [
        ""
      ],
      "execution_count": null,
      "outputs": []
    },
    {
      "cell_type": "code",
      "metadata": {
        "id": "tQRbVnozg25G"
      },
      "source": [
        ""
      ],
      "execution_count": null,
      "outputs": []
    },
    {
      "cell_type": "markdown",
      "metadata": {
        "id": "yfmb-4ujtd3f"
      },
      "source": [
        "Model Training (KNN)\n"
      ]
    },
    {
      "cell_type": "code",
      "metadata": {
        "id": "TYZmYrXEvx2N"
      },
      "source": [
        "# Split the data into input and labels\n",
        "\n",
        "labels = df['Category']\n",
        "input_data = df.drop(columns=['Category'])\n",
        "\n",
        "# Split the data into training and test\n",
        "training_data, test_data, training_labels, test_labels = train_test_split(\n",
        "    input_data, \n",
        "    labels, \n",
        "    test_size=0.20\n",
        ")"
      ],
      "execution_count": null,
      "outputs": []
    },
    {
      "cell_type": "code",
      "metadata": {
        "colab": {
          "base_uri": "https://localhost:8080/"
        },
        "id": "uA9fLrqIv_xm",
        "outputId": "8a5b141b-3299-4f1b-a34d-89619baded19"
      },
      "source": [
        "print(training_data.dtypes)"
      ],
      "execution_count": null,
      "outputs": [
        {
          "output_type": "stream",
          "text": [
            "Dates         datetime64[ns]\n",
            "Descript               int16\n",
            "DayOfWeek               int8\n",
            "PdDistrict              int8\n",
            "Resolution              int8\n",
            "Address                int16\n",
            "X                      int16\n",
            "Y                      int16\n",
            "dtype: object\n"
          ],
          "name": "stdout"
        }
      ]
    },
    {
      "cell_type": "code",
      "metadata": {
        "colab": {
          "base_uri": "https://localhost:8080/",
          "height": 409
        },
        "id": "pwxDhlEzvUaG",
        "outputId": "d0a7ee6a-c446-4f74-9f46-3e7ba4525ca6"
      },
      "source": [
        "# There are nearly infinite number of correct solutions to this section.\n",
        "model_one = KNeighborsClassifier()\n",
        "model_two = KNeighborsClassifier(weights='distance')\n",
        "model_three = KNeighborsClassifier(n_neighbors=10, weights='distance')\n",
        "model_four = KNeighborsClassifier(n_neighbors=10, weights='distance', p=1)\n",
        "model_five = KNeighborsClassifier(n_neighbors=10, weights='distance', p=3)\n",
        "model_six = KNeighborsClassifier(n_neighbors=3, p=1)\n",
        "\n",
        "# Lets make it easier to train each one by putting them in a list...\n",
        "models = [\n",
        "    model_one,\n",
        "    model_two,\n",
        "    model_three,\n",
        "    model_four,\n",
        "    model_five,\n",
        "    model_six\n",
        "]\n",
        "\n",
        "for index, model in enumerate(models):\n",
        "    print(model)\n",
        "    model.fit(training_data, training_labels)\n",
        "    print(f'{index}: {model.score(test_data, test_labels):.3f}')"
      ],
      "execution_count": null,
      "outputs": [
        {
          "output_type": "stream",
          "text": [
            "KNeighborsClassifier(algorithm='auto', leaf_size=30, metric='minkowski',\n",
            "                     metric_params=None, n_jobs=None, n_neighbors=5, p=2,\n",
            "                     weights='uniform')\n"
          ],
          "name": "stdout"
        },
        {
          "output_type": "error",
          "ename": "TypeError",
          "evalue": "ignored",
          "traceback": [
            "\u001b[0;31m---------------------------------------------------------------------------\u001b[0m",
            "\u001b[0;31mTypeError\u001b[0m                                 Traceback (most recent call last)",
            "\u001b[0;32m<ipython-input-245-80ffda7298c7>\u001b[0m in \u001b[0;36m<module>\u001b[0;34m()\u001b[0m\n\u001b[1;32m     19\u001b[0m \u001b[0;32mfor\u001b[0m \u001b[0mindex\u001b[0m\u001b[0;34m,\u001b[0m \u001b[0mmodel\u001b[0m \u001b[0;32min\u001b[0m \u001b[0menumerate\u001b[0m\u001b[0;34m(\u001b[0m\u001b[0mmodels\u001b[0m\u001b[0;34m)\u001b[0m\u001b[0;34m:\u001b[0m\u001b[0;34m\u001b[0m\u001b[0;34m\u001b[0m\u001b[0m\n\u001b[1;32m     20\u001b[0m     \u001b[0mprint\u001b[0m\u001b[0;34m(\u001b[0m\u001b[0mmodel\u001b[0m\u001b[0;34m)\u001b[0m\u001b[0;34m\u001b[0m\u001b[0;34m\u001b[0m\u001b[0m\n\u001b[0;32m---> 21\u001b[0;31m     \u001b[0mmodel\u001b[0m\u001b[0;34m.\u001b[0m\u001b[0mfit\u001b[0m\u001b[0;34m(\u001b[0m\u001b[0mtraining_data\u001b[0m\u001b[0;34m,\u001b[0m \u001b[0mtraining_labels\u001b[0m\u001b[0;34m)\u001b[0m\u001b[0;34m\u001b[0m\u001b[0;34m\u001b[0m\u001b[0m\n\u001b[0m\u001b[1;32m     22\u001b[0m     \u001b[0mprint\u001b[0m\u001b[0;34m(\u001b[0m\u001b[0;34mf'{index}: {model.score(test_data, test_labels):.3f}'\u001b[0m\u001b[0;34m)\u001b[0m\u001b[0;34m\u001b[0m\u001b[0;34m\u001b[0m\u001b[0m\n",
            "\u001b[0;32m/usr/local/lib/python3.7/dist-packages/sklearn/neighbors/_base.py\u001b[0m in \u001b[0;36mfit\u001b[0;34m(self, X, y)\u001b[0m\n\u001b[1;32m   1124\u001b[0m         \"\"\"\n\u001b[1;32m   1125\u001b[0m         \u001b[0;32mif\u001b[0m \u001b[0;32mnot\u001b[0m \u001b[0misinstance\u001b[0m\u001b[0;34m(\u001b[0m\u001b[0mX\u001b[0m\u001b[0;34m,\u001b[0m \u001b[0;34m(\u001b[0m\u001b[0mKDTree\u001b[0m\u001b[0;34m,\u001b[0m \u001b[0mBallTree\u001b[0m\u001b[0;34m)\u001b[0m\u001b[0;34m)\u001b[0m\u001b[0;34m:\u001b[0m\u001b[0;34m\u001b[0m\u001b[0;34m\u001b[0m\u001b[0m\n\u001b[0;32m-> 1126\u001b[0;31m             \u001b[0mX\u001b[0m\u001b[0;34m,\u001b[0m \u001b[0my\u001b[0m \u001b[0;34m=\u001b[0m \u001b[0mcheck_X_y\u001b[0m\u001b[0;34m(\u001b[0m\u001b[0mX\u001b[0m\u001b[0;34m,\u001b[0m \u001b[0my\u001b[0m\u001b[0;34m,\u001b[0m \u001b[0;34m\"csr\"\u001b[0m\u001b[0;34m,\u001b[0m \u001b[0mmulti_output\u001b[0m\u001b[0;34m=\u001b[0m\u001b[0;32mTrue\u001b[0m\u001b[0;34m)\u001b[0m\u001b[0;34m\u001b[0m\u001b[0;34m\u001b[0m\u001b[0m\n\u001b[0m\u001b[1;32m   1127\u001b[0m \u001b[0;34m\u001b[0m\u001b[0m\n\u001b[1;32m   1128\u001b[0m         \u001b[0;32mif\u001b[0m \u001b[0my\u001b[0m\u001b[0;34m.\u001b[0m\u001b[0mndim\u001b[0m \u001b[0;34m==\u001b[0m \u001b[0;36m1\u001b[0m \u001b[0;32mor\u001b[0m \u001b[0my\u001b[0m\u001b[0;34m.\u001b[0m\u001b[0mndim\u001b[0m \u001b[0;34m==\u001b[0m \u001b[0;36m2\u001b[0m \u001b[0;32mand\u001b[0m \u001b[0my\u001b[0m\u001b[0;34m.\u001b[0m\u001b[0mshape\u001b[0m\u001b[0;34m[\u001b[0m\u001b[0;36m1\u001b[0m\u001b[0;34m]\u001b[0m \u001b[0;34m==\u001b[0m \u001b[0;36m1\u001b[0m\u001b[0;34m:\u001b[0m\u001b[0;34m\u001b[0m\u001b[0;34m\u001b[0m\u001b[0m\n",
            "\u001b[0;32m/usr/local/lib/python3.7/dist-packages/sklearn/utils/validation.py\u001b[0m in \u001b[0;36mcheck_X_y\u001b[0;34m(X, y, accept_sparse, accept_large_sparse, dtype, order, copy, force_all_finite, ensure_2d, allow_nd, multi_output, ensure_min_samples, ensure_min_features, y_numeric, warn_on_dtype, estimator)\u001b[0m\n\u001b[1;32m    753\u001b[0m                     \u001b[0mensure_min_features\u001b[0m\u001b[0;34m=\u001b[0m\u001b[0mensure_min_features\u001b[0m\u001b[0;34m,\u001b[0m\u001b[0;34m\u001b[0m\u001b[0;34m\u001b[0m\u001b[0m\n\u001b[1;32m    754\u001b[0m                     \u001b[0mwarn_on_dtype\u001b[0m\u001b[0;34m=\u001b[0m\u001b[0mwarn_on_dtype\u001b[0m\u001b[0;34m,\u001b[0m\u001b[0;34m\u001b[0m\u001b[0;34m\u001b[0m\u001b[0m\n\u001b[0;32m--> 755\u001b[0;31m                     estimator=estimator)\n\u001b[0m\u001b[1;32m    756\u001b[0m     \u001b[0;32mif\u001b[0m \u001b[0mmulti_output\u001b[0m\u001b[0;34m:\u001b[0m\u001b[0;34m\u001b[0m\u001b[0;34m\u001b[0m\u001b[0m\n\u001b[1;32m    757\u001b[0m         y = check_array(y, 'csr', force_all_finite=True, ensure_2d=False,\n",
            "\u001b[0;32m/usr/local/lib/python3.7/dist-packages/sklearn/utils/validation.py\u001b[0m in \u001b[0;36mcheck_array\u001b[0;34m(array, accept_sparse, accept_large_sparse, dtype, order, copy, force_all_finite, ensure_2d, allow_nd, ensure_min_samples, ensure_min_features, warn_on_dtype, estimator)\u001b[0m\n\u001b[1;32m    529\u001b[0m                     \u001b[0marray\u001b[0m \u001b[0;34m=\u001b[0m \u001b[0marray\u001b[0m\u001b[0;34m.\u001b[0m\u001b[0mastype\u001b[0m\u001b[0;34m(\u001b[0m\u001b[0mdtype\u001b[0m\u001b[0;34m,\u001b[0m \u001b[0mcasting\u001b[0m\u001b[0;34m=\u001b[0m\u001b[0;34m\"unsafe\"\u001b[0m\u001b[0;34m,\u001b[0m \u001b[0mcopy\u001b[0m\u001b[0;34m=\u001b[0m\u001b[0;32mFalse\u001b[0m\u001b[0;34m)\u001b[0m\u001b[0;34m\u001b[0m\u001b[0;34m\u001b[0m\u001b[0m\n\u001b[1;32m    530\u001b[0m                 \u001b[0;32melse\u001b[0m\u001b[0;34m:\u001b[0m\u001b[0;34m\u001b[0m\u001b[0;34m\u001b[0m\u001b[0m\n\u001b[0;32m--> 531\u001b[0;31m                     \u001b[0marray\u001b[0m \u001b[0;34m=\u001b[0m \u001b[0mnp\u001b[0m\u001b[0;34m.\u001b[0m\u001b[0masarray\u001b[0m\u001b[0;34m(\u001b[0m\u001b[0marray\u001b[0m\u001b[0;34m,\u001b[0m \u001b[0morder\u001b[0m\u001b[0;34m=\u001b[0m\u001b[0morder\u001b[0m\u001b[0;34m,\u001b[0m \u001b[0mdtype\u001b[0m\u001b[0;34m=\u001b[0m\u001b[0mdtype\u001b[0m\u001b[0;34m)\u001b[0m\u001b[0;34m\u001b[0m\u001b[0;34m\u001b[0m\u001b[0m\n\u001b[0m\u001b[1;32m    532\u001b[0m             \u001b[0;32mexcept\u001b[0m \u001b[0mComplexWarning\u001b[0m\u001b[0;34m:\u001b[0m\u001b[0;34m\u001b[0m\u001b[0;34m\u001b[0m\u001b[0m\n\u001b[1;32m    533\u001b[0m                 raise ValueError(\"Complex data not supported\\n\"\n",
            "\u001b[0;32m/usr/local/lib/python3.7/dist-packages/numpy/core/_asarray.py\u001b[0m in \u001b[0;36masarray\u001b[0;34m(a, dtype, order)\u001b[0m\n\u001b[1;32m     81\u001b[0m \u001b[0;34m\u001b[0m\u001b[0m\n\u001b[1;32m     82\u001b[0m     \"\"\"\n\u001b[0;32m---> 83\u001b[0;31m     \u001b[0;32mreturn\u001b[0m \u001b[0marray\u001b[0m\u001b[0;34m(\u001b[0m\u001b[0ma\u001b[0m\u001b[0;34m,\u001b[0m \u001b[0mdtype\u001b[0m\u001b[0;34m,\u001b[0m \u001b[0mcopy\u001b[0m\u001b[0;34m=\u001b[0m\u001b[0;32mFalse\u001b[0m\u001b[0;34m,\u001b[0m \u001b[0morder\u001b[0m\u001b[0;34m=\u001b[0m\u001b[0morder\u001b[0m\u001b[0;34m)\u001b[0m\u001b[0;34m\u001b[0m\u001b[0;34m\u001b[0m\u001b[0m\n\u001b[0m\u001b[1;32m     84\u001b[0m \u001b[0;34m\u001b[0m\u001b[0m\n\u001b[1;32m     85\u001b[0m \u001b[0;34m\u001b[0m\u001b[0m\n",
            "\u001b[0;32m/usr/local/lib/python3.7/dist-packages/pandas/core/generic.py\u001b[0m in \u001b[0;36m__array__\u001b[0;34m(self, dtype)\u001b[0m\n\u001b[1;32m   1779\u001b[0m \u001b[0;34m\u001b[0m\u001b[0m\n\u001b[1;32m   1780\u001b[0m     \u001b[0;32mdef\u001b[0m \u001b[0m__array__\u001b[0m\u001b[0;34m(\u001b[0m\u001b[0mself\u001b[0m\u001b[0;34m,\u001b[0m \u001b[0mdtype\u001b[0m\u001b[0;34m=\u001b[0m\u001b[0;32mNone\u001b[0m\u001b[0;34m)\u001b[0m \u001b[0;34m->\u001b[0m \u001b[0mnp\u001b[0m\u001b[0;34m.\u001b[0m\u001b[0mndarray\u001b[0m\u001b[0;34m:\u001b[0m\u001b[0;34m\u001b[0m\u001b[0;34m\u001b[0m\u001b[0m\n\u001b[0;32m-> 1781\u001b[0;31m         \u001b[0;32mreturn\u001b[0m \u001b[0mnp\u001b[0m\u001b[0;34m.\u001b[0m\u001b[0masarray\u001b[0m\u001b[0;34m(\u001b[0m\u001b[0mself\u001b[0m\u001b[0;34m.\u001b[0m\u001b[0m_values\u001b[0m\u001b[0;34m,\u001b[0m \u001b[0mdtype\u001b[0m\u001b[0;34m=\u001b[0m\u001b[0mdtype\u001b[0m\u001b[0;34m)\u001b[0m\u001b[0;34m\u001b[0m\u001b[0;34m\u001b[0m\u001b[0m\n\u001b[0m\u001b[1;32m   1782\u001b[0m \u001b[0;34m\u001b[0m\u001b[0m\n\u001b[1;32m   1783\u001b[0m     \u001b[0;32mdef\u001b[0m \u001b[0m__array_wrap__\u001b[0m\u001b[0;34m(\u001b[0m\u001b[0mself\u001b[0m\u001b[0;34m,\u001b[0m \u001b[0mresult\u001b[0m\u001b[0;34m,\u001b[0m \u001b[0mcontext\u001b[0m\u001b[0;34m=\u001b[0m\u001b[0;32mNone\u001b[0m\u001b[0;34m)\u001b[0m\u001b[0;34m:\u001b[0m\u001b[0;34m\u001b[0m\u001b[0;34m\u001b[0m\u001b[0m\n",
            "\u001b[0;32m/usr/local/lib/python3.7/dist-packages/numpy/core/_asarray.py\u001b[0m in \u001b[0;36masarray\u001b[0;34m(a, dtype, order)\u001b[0m\n\u001b[1;32m     81\u001b[0m \u001b[0;34m\u001b[0m\u001b[0m\n\u001b[1;32m     82\u001b[0m     \"\"\"\n\u001b[0;32m---> 83\u001b[0;31m     \u001b[0;32mreturn\u001b[0m \u001b[0marray\u001b[0m\u001b[0;34m(\u001b[0m\u001b[0ma\u001b[0m\u001b[0;34m,\u001b[0m \u001b[0mdtype\u001b[0m\u001b[0;34m,\u001b[0m \u001b[0mcopy\u001b[0m\u001b[0;34m=\u001b[0m\u001b[0;32mFalse\u001b[0m\u001b[0;34m,\u001b[0m \u001b[0morder\u001b[0m\u001b[0;34m=\u001b[0m\u001b[0morder\u001b[0m\u001b[0;34m)\u001b[0m\u001b[0;34m\u001b[0m\u001b[0;34m\u001b[0m\u001b[0m\n\u001b[0m\u001b[1;32m     84\u001b[0m \u001b[0;34m\u001b[0m\u001b[0m\n\u001b[1;32m     85\u001b[0m \u001b[0;34m\u001b[0m\u001b[0m\n",
            "\u001b[0;31mTypeError\u001b[0m: float() argument must be a string or a number, not 'Timestamp'"
          ]
        }
      ]
    }
  ]
}