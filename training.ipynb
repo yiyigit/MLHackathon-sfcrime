{
  "nbformat": 4,
  "nbformat_minor": 0,
  "metadata": {
    "language_info": {
      "codemirror_mode": {
        "name": "ipython",
        "version": 3
      },
      "file_extension": ".py",
      "mimetype": "text/x-python",
      "name": "python",
      "nbconvert_exporter": "python",
      "pygments_lexer": "ipython3",
      "version": "3.9.6"
    },
    "orig_nbformat": 4,
    "kernelspec": {
      "name": "python3",
      "display_name": "Python 3.9.6 64-bit ('venv')"
    },
    "interpreter": {
      "hash": "32b2284a79d2ab4f6476f77f5a7277119c77466213ad2f96cca4d2a97d41bf58"
    },
    "colab": {
      "name": "training.ipynb",
      "provenance": []
    }
  },
  "cells": [
    {
      "cell_type": "code",
      "metadata": {
        "id": "1eQDUtBqOT3M"
      },
      "source": [
        "import pandas as pd\n",
        "from sklearn import preprocessing"
      ],
      "execution_count": 6,
      "outputs": []
    },
    {
      "cell_type": "code",
      "metadata": {
        "id": "eaZLtorEOT3M"
      },
      "source": [
        "def retrieve_dataset(df, mode='train'):\n",
        "    df['Dates'] = pd.to_datetime(df['Dates'])\n",
        "    df['Month'] = df['Dates'].dt.month\n",
        "    df['Hour'] = df['Dates'].dt.hour\n",
        "    df['Year'] = df['Dates'].dt.year\n",
        "    df['Weekend'] = df['DayOfWeek'].isin(['Saturday', 'Sunday'])\n",
        "    df.drop(['Address', 'Resolution','Dates', 'Descript'], axis=1, inplace=True)\n",
        "    df = pd.get_dummies(df, columns=['Month', 'Hour','Year', 'Weekend', 'DayOfWeek', 'PdDistrict'])\n",
        "    enc = preprocessing.LabelEncoder()\n",
        "    enc.fit(df['Category'])\n",
        "    label_mappings = enc.classes_\n",
        "    df['Category'] = enc.transform(df['Category'])\n",
        "    return df, label_mappings\n",
        "\n",
        "def retrieve_test_dataset(df):\n",
        "    df['Dates'] = pd.to_datetime(df['Dates'])\n",
        "    df['Month'] = df['Dates'].dt.month\n",
        "    df['Hour'] = df['Dates'].dt.hour\n",
        "    df['Year'] = df['Dates'].dt.year\n",
        "    df['Weekend'] = df['DayOfWeek'].isin(['Saturday', 'Sunday'])\n",
        "    df.drop(['Address','Dates'], axis=1, inplace=True)\n",
        "    df = pd.get_dummies(df, columns=['Month', 'Hour','Year', 'Weekend', 'DayOfWeek', 'PdDistrict'])\n",
        "    return df\n",
        "\n",
        "\n",
        "train = pd.read_csv('hackathon_train.csv')\n",
        "new_train, mappings = retrieve_dataset(train)\n",
        "mappings_df = pd.DataFrame({'id':list(range(len(mappings))), 'Category':mappings})\n",
        "mappings_df.to_csv('category_mappings.csv')\n"
      ],
      "execution_count": 7,
      "outputs": []
    },
    {
      "cell_type": "code",
      "metadata": {
        "id": "TWHcT3AeOT3N"
      },
      "source": [
        "y = new_train['Category']\n",
        "columns = list(new_train.columns)\n",
        "columns.remove('Category')\n",
        "X = new_train[columns]"
      ],
      "execution_count": 8,
      "outputs": []
    },
    {
      "cell_type": "markdown",
      "metadata": {
        "id": "IQMFdahuOT3O"
      },
      "source": [
        "## Logistic Regression"
      ]
    },
    {
      "cell_type": "code",
      "metadata": {
        "colab": {
          "base_uri": "https://localhost:8080/",
          "height": 181
        },
        "id": "h1xMMH7mOT3O",
        "outputId": "7b4a4741-c8ad-47d5-d943-5f91a4ac2898"
      },
      "source": [
        "from sklearn.linear_model import LogisticRegression\n",
        "logistic_clf = LogisticRegression(random_state=0, max_iter=1000).fit(Xtrans, y)"
      ],
      "execution_count": 9,
      "outputs": [
        {
          "output_type": "error",
          "ename": "NameError",
          "evalue": "ignored",
          "traceback": [
            "\u001b[0;31m---------------------------------------------------------------------------\u001b[0m",
            "\u001b[0;31mNameError\u001b[0m                                 Traceback (most recent call last)",
            "\u001b[0;32m<ipython-input-9-a3fb24906286>\u001b[0m in \u001b[0;36m<module>\u001b[0;34m()\u001b[0m\n\u001b[1;32m      1\u001b[0m \u001b[0;32mfrom\u001b[0m \u001b[0msklearn\u001b[0m\u001b[0;34m.\u001b[0m\u001b[0mlinear_model\u001b[0m \u001b[0;32mimport\u001b[0m \u001b[0mLogisticRegression\u001b[0m\u001b[0;34m\u001b[0m\u001b[0;34m\u001b[0m\u001b[0m\n\u001b[0;32m----> 2\u001b[0;31m \u001b[0mlogistic_clf\u001b[0m \u001b[0;34m=\u001b[0m \u001b[0mLogisticRegression\u001b[0m\u001b[0;34m(\u001b[0m\u001b[0mrandom_state\u001b[0m\u001b[0;34m=\u001b[0m\u001b[0;36m0\u001b[0m\u001b[0;34m,\u001b[0m \u001b[0mmax_iter\u001b[0m\u001b[0;34m=\u001b[0m\u001b[0;36m1000\u001b[0m\u001b[0;34m)\u001b[0m\u001b[0;34m.\u001b[0m\u001b[0mfit\u001b[0m\u001b[0;34m(\u001b[0m\u001b[0mXtrans\u001b[0m\u001b[0;34m,\u001b[0m \u001b[0my\u001b[0m\u001b[0;34m)\u001b[0m\u001b[0;34m\u001b[0m\u001b[0;34m\u001b[0m\u001b[0m\n\u001b[0m",
            "\u001b[0;31mNameError\u001b[0m: name 'Xtrans' is not defined"
          ]
        }
      ]
    },
    {
      "cell_type": "markdown",
      "metadata": {
        "id": "fAkkrSysOT3O"
      },
      "source": [
        "## Decision Trees"
      ]
    },
    {
      "cell_type": "code",
      "metadata": {
        "id": "TuBIsX_kOT3O"
      },
      "source": [
        "from sklearn import tree\n",
        "decision_clf = tree.DecisionTreeClassifier()\n",
        "decision_clf = decision_clf.fit(Xtrans, y)"
      ],
      "execution_count": null,
      "outputs": []
    },
    {
      "cell_type": "markdown",
      "metadata": {
        "id": "ZsVpNP31OT3O"
      },
      "source": [
        "## Calculating Log Loss"
      ]
    },
    {
      "cell_type": "code",
      "metadata": {
        "id": "KhnwWoSyOT3P"
      },
      "source": [
        "test = pd.read_csv('hackathon_test.csv', index_col='Id')\n",
        "new_test = retrieve_test_dataset(test)\n",
        "enc = preprocessing.StandardScaler()\n",
        "enc.fit(new_test)\n",
        "new_test = enc.transform(new_test)\n",
        "new_test = pca.transform(new_test)\n",
        "\n",
        "ids = mappings_df['id'].values\n",
        "cats = mappings_df['Category'].values\n",
        "new_dict = {cats[ix]:ids[ix] for ix in range(len(ids))}"
      ],
      "execution_count": null,
      "outputs": []
    },
    {
      "cell_type": "code",
      "metadata": {
        "id": "NJAUGqj9OT3P"
      },
      "source": [
        "from sklearn.metrics import log_loss\n",
        "\n",
        "test_results = pd.read_csv('hackathon_test_result.csv', index_col='Id')\n",
        "test_results = list(map(lambda x: new_dict[x], list(test_results['Category'].values)))\n",
        "import numpy as np\n",
        "\n",
        "## Logistic Regression\n",
        "predictions = logistic_clf.predict_proba(new_test)\n",
        "print(log_loss(test_results, predictions, labels=list(range(39))))\n",
        "\n",
        "## Decision Trees\n",
        "predictions = decision_clf.predict_proba(new_test)\n",
        "print(log_loss(test_results, predictions, labels=list(range(39))))\n"
      ],
      "execution_count": null,
      "outputs": []
    }
  ]
}