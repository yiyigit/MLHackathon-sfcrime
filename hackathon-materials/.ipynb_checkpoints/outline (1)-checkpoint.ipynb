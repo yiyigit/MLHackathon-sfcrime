{
 "cells": [
  {
   "cell_type": "markdown",
   "metadata": {
    "colab_type": "text",
    "id": "Tf7vFumymEsH"
   },
   "source": [
    "# While we are waiting\n",
    "\n",
    "* Ensure you register your attendance on the sign-in sheet\n",
    "* Download the courseware from Google Drive: https://bit.ly/vmware-hackathon\n",
    "* Install the dependencies...\n",
    "    * With [pipenv](https://pipenv-fork.readthedocs.io/en/latest/install.html) simply run `pipenv install`\n",
    "    * Using pip, run `pip install pandas numpy scipy scikit-learn matplotlib`\n",
    "    * With conda, run `conda install pandas numpy scipy scikit-learn matplotlib`\n",
    "    * If you use something else to manage your Python libraries, feel free to use that!"
   ]
  },
  {
   "cell_type": "markdown",
   "metadata": {
    "colab_type": "text",
    "id": "14sA6qNPmEsJ"
   },
   "source": [
    "# Machine Learning in Python\n",
    "\n",
    "Tyler Bettilyon  \n",
    "teb@tebs-lab.com  \n",
    "\n",
    "Rick Copeland  \n",
    "rick@arborian.com\n",
    "\n",
    "### Schedule\n",
    "\n",
    "**Class times**: 09:00 - 05:00\n",
    "\n",
    "**Lunch**: 12:00 - 1:00\n",
    "\n",
    "\n",
    "*Don't worry, there will be frequent breaks and work periods.*"
   ]
  },
  {
   "cell_type": "markdown",
   "metadata": {
    "colab_type": "text",
    "id": "Ma_S38b7mEsL"
   },
   "source": [
    "# Outline and Schedule\n",
    "\n",
    "\n",
    "## Day 1\n",
    "\n",
    "* Introductions\n",
    "* [Conceptual introduction to machine learning and model building][intro-ml] [Tyler]\n",
    "* [Working With Data in Pandas][pandas-intro] [Rick]\n",
    "* [Pandas and Scikit Learn][pandas-sklearn] [Rick]\n",
    "* [Munging Data in Pandas][pandas-munging] [Rick]\n",
    "* [Linear Models][linear-models] [Tyler]\n",
    "* [Data and Validation][data-and-validation] [Rick]\n",
    "* [K-Nearest Neighbors][knn] [Tyler]\n",
    "* [Decision Trees & Random Forests][trees] [Tyler]\n",
    "* [Intro to The Hackathon][hackathon-intro] [Tyler] ([additional info][hackathon-intro-addtl])\n",
    "    \n",
    "## Day 2 \n",
    "\n",
    "* 9:00am - 4:00pm: hacking on that data. \n",
    "* 4:00pm - 5:00pm: present your findings.\n",
    "\n",
    "[intro-ml]: lecture/01-intro-to-ml.ipynb\n",
    "[pandas-intro]: lecture/02-pandas-intro.ipynb\n",
    "[pandas-sklearn]: lecture/03-pandas-and-sklearn.ipynb\n",
    "[pandas-munging]: lecture/04-pandas-munging.ipynb\n",
    "[linear-models]: lecture/05-linear-models.ipynb\n",
    "[data-and-validation]: lecture/06-data-and-validation.ipynb\n",
    "[knn]: lecture/07-k-nearest-neighbors.ipynb\n",
    "[trees]: lecture/08-trees-and-forests.ipynb\n",
    "[hackathon-intro]: lecture/09-required-intro-to-hackathon.ipynb\n",
    "[hackathon-intro-addtl]: lecture/10-optional-additional-intro-to-hackathon.ipynb\n"
   ]
  },
  {
   "cell_type": "code",
   "execution_count": null,
   "metadata": {
    "colab": {},
    "colab_type": "code",
    "id": "n6TjO-R1mEsN"
   },
   "outputs": [],
   "source": []
  }
 ],
 "metadata": {
  "colab": {
   "name": "outline.ipynb",
   "provenance": []
  },
  "kernelspec": {
   "display_name": "Python 3",
   "language": "python",
   "name": "python3"
  },
  "language_info": {
   "codemirror_mode": {
    "name": "ipython",
    "version": 3
   },
   "file_extension": ".py",
   "mimetype": "text/x-python",
   "name": "python",
   "nbconvert_exporter": "python",
   "pygments_lexer": "ipython3",
   "version": "3.7.6"
  }
 },
 "nbformat": 4,
 "nbformat_minor": 1
}
